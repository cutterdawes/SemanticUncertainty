{
 "cells": [
  {
   "cell_type": "code",
   "execution_count": 2,
   "id": "02828891",
   "metadata": {},
   "outputs": [],
   "source": [
    "%load_ext autoreload\n",
    "%autoreload 2"
   ]
  },
  {
   "cell_type": "code",
   "execution_count": 3,
   "id": "2bbcc6ce",
   "metadata": {},
   "outputs": [
    {
     "name": "stdout",
     "output_type": "stream",
     "text": [
      "/home/cutter/semantic_uncertainty/semantic_uncertainty\n"
     ]
    }
   ],
   "source": [
    "%cd ~/semantic_uncertainty/semantic_uncertainty"
   ]
  },
  {
   "cell_type": "code",
   "execution_count": 4,
   "id": "308ae231",
   "metadata": {},
   "outputs": [],
   "source": [
    "import numpy as np\n",
    "import random\n",
    "import itertools\n",
    "import umap\n",
    "import matplotlib.pyplot as plt\n",
    "from collections import defaultdict\n",
    "import torch\n",
    "import wandb\n",
    "\n",
    "from uncertainty.data.data_utils import load_ds\n",
    "from uncertainty.utils import utils\n",
    "from compute_uncertainty_measures import main as main_compute\n",
    "\n",
    "from analyze_results import analyze_run\n",
    "from uncertainty.uncertainty_measures.p_ik import get_p_ik\n",
    "from uncertainty.uncertainty_measures.semantic_entropy import get_semantic_ids\n",
    "from uncertainty.uncertainty_measures.semantic_entropy import logsumexp_by_id\n",
    "from uncertainty.uncertainty_measures.semantic_entropy import predictive_entropy\n",
    "from uncertainty.uncertainty_measures.semantic_entropy import predictive_entropy_rao\n",
    "from uncertainty.uncertainty_measures.semantic_entropy import cluster_assignment_entropy\n",
    "from uncertainty.uncertainty_measures.semantic_entropy import context_entails_response\n",
    "from uncertainty.uncertainty_measures.semantic_entropy import EntailmentDeberta\n",
    "from uncertainty.uncertainty_measures.semantic_entropy import EntailmentGPT4\n",
    "from uncertainty.uncertainty_measures.semantic_entropy import EntailmentGPT35\n",
    "from uncertainty.uncertainty_measures.semantic_entropy import EntailmentGPT4Turbo\n",
    "from uncertainty.uncertainty_measures.semantic_entropy import EntailmentLlama"
   ]
  },
  {
   "cell_type": "code",
   "execution_count": 5,
   "id": "5f95c1ff",
   "metadata": {},
   "outputs": [],
   "source": [
    "parser = utils.get_parser()\n",
    "args, unknown = parser.parse_known_args()"
   ]
  },
  {
   "cell_type": "code",
   "execution_count": 17,
   "id": "245a6ca8",
   "metadata": {},
   "outputs": [],
   "source": [
    "args.num_generations = 10\n",
    "args.use_context = False"
   ]
  },
  {
   "cell_type": "code",
   "execution_count": 18,
   "id": "40da8d87",
   "metadata": {},
   "outputs": [],
   "source": [
    "experiment_details = {'args': args}\n",
    "random.seed(args.random_seed)"
   ]
  },
  {
   "cell_type": "code",
   "execution_count": 19,
   "id": "15446a45",
   "metadata": {},
   "outputs": [],
   "source": [
    "# Get accuracy metric.\n",
    "metric = utils.get_metric(args.metric)\n",
    "\n",
    "# Load dataset.\n",
    "train_dataset, validation_dataset = load_ds(\n",
    "    args.dataset, add_options=args.use_mc_options, seed=args.random_seed)"
   ]
  },
  {
   "cell_type": "code",
   "execution_count": 20,
   "id": "56b6d69e",
   "metadata": {},
   "outputs": [],
   "source": [
    "# Get indices of answerable and unanswerable questions and construct prompt.\n",
    "answerable_indices, unanswerable_indices = utils.split_dataset(train_dataset)\n",
    "\n",
    "if args.answerable_only:\n",
    "    unanswerable_indices = []\n",
    "    val_answerable, val_unanswerable = utils.split_dataset(validation_dataset)\n",
    "    del val_unanswerable\n",
    "    validation_dataset = [validation_dataset[i] for i in val_answerable]\n",
    "\n",
    "prompt_indices = random.sample(answerable_indices, args.num_few_shot)\n",
    "experiment_details['prompt_indices'] = prompt_indices\n",
    "remaining_answerable = list(set(answerable_indices) - set(prompt_indices))"
   ]
  },
  {
   "cell_type": "code",
   "execution_count": 21,
   "id": "020914eb",
   "metadata": {},
   "outputs": [],
   "source": [
    "# Create Few-Shot prompt.\n",
    "make_prompt = utils.get_make_prompt(args)\n",
    "BRIEF = utils.BRIEF_PROMPTS[args.brief_prompt]\n",
    "arg = args.brief_always if args.enable_brief else True\n",
    "prompt = utils.construct_fewshot_prompt_from_indices(\n",
    "    train_dataset, prompt_indices, BRIEF, arg, make_prompt)\n",
    "experiment_details['prompt'] = prompt\n",
    "experiment_details['BRIEF'] = BRIEF"
   ]
  },
  {
   "cell_type": "code",
   "execution_count": null,
   "id": "526da426",
   "metadata": {},
   "outputs": [],
   "source": [
    "# Initialize model.\n",
    "model = utils.init_model(args)"
   ]
  },
  {
   "cell_type": "code",
   "execution_count": null,
   "id": "1e2a26ee",
   "metadata": {},
   "outputs": [],
   "source": [
    "entailment_model = EntailmentDeberta()"
   ]
  },
  {
   "cell_type": "code",
   "execution_count": 12,
   "id": "d46d1f05",
   "metadata": {},
   "outputs": [],
   "source": [
    "# Grab example.\n",
    "dataset = train_dataset\n",
    "example = dataset[6]\n",
    "question, context = example[\"question\"], example['context']\n",
    "generations = {'question': question, 'context': context}\n",
    "correct_answer = example['answers']['text']\n",
    "\n",
    "current_input = make_prompt(\n",
    "context, question, None, BRIEF, args.brief_always and args.enable_brief)\n",
    "local_prompt = prompt + current_input"
   ]
  },
  {
   "cell_type": "code",
   "execution_count": 13,
   "id": "6bdf017b",
   "metadata": {},
   "outputs": [
    {
     "name": "stdout",
     "output_type": "stream",
     "text": [
      "question:      \"Who painted \"\"Boy With a Pipe\"\" which, in May 2004, was sold for a record price of $104 million?\"\n",
      "context:       [DOC] [TLE] Worldandnation: Picasso sells for record - Tampa Bay TimesSt. Petersburg Times Online:  World and National news [PAR] By Associated Press [PAR] Published May 6, 2004 [PAR] NEW YORK - Pablo Picasso's 1905 painting Boy with a Pipe sold for $104-million Wednesday at Sotheby's, shattering the record for an auctioned painting. [PAR] The total includes the auction price of $93-million plus the auction house's commission of about $11-million. [PAR] The previous record was set by Vincent van Gogh's 1890 Portrait of Doctor Gachet, which was sold to a Japanese billionaire for $82.5-million in 1990 at Christie's, including the auction house's premium. [PAR] Sotheby's did not immediately say who bought Boy with a Pipe. [PAR] A 24-year-old Picasso painted Boy with a Pipe soon after settling in Montmartre, France. [PAR] The painting was part of a collection of major works by Picasso, Edouard Manet, Edgar Degas and others that headlined an auction of 34 paintings from a charitable foundation created by philanthropist Betsey Whitney. The collection had a presale estimate of more than $140-million. [PAR] [Last modified May 6, 2004, 01:00:39] [PAR] World and national headlines[DOC] [TLE] Picasso’s ‘Boy with a Pipe’ sells for $104 million - today ...Picasso’s ‘Boy with a Pipe’ sells for $104 million - TODAY.c\n",
      "low-t prediction: Pablo Picasso\n",
      "correct answer: ['pablo picasso']\n",
      "accuracy:      1.0\n",
      "high-t prediction 1 : Picasso\n",
      "high-t prediction 2 : Pablo Picasso\n",
      "high-t prediction 3 : Pablo Picasso\n",
      "high-t prediction 4 : Picasso\n",
      "high-t prediction 5 : Pablo Picasso\n",
      "high-t prediction 6 : Pablo Picasso\n",
      "high-t prediction 7 : Picasso\n",
      "high-t prediction 8 : pablo picasso\n",
      "high-t prediction 9 : Pablo Picasso\n",
      "high-t prediction 10 : Picasso\n"
     ]
    }
   ],
   "source": [
    "full_responses = []\n",
    "\n",
    "# We sample one low temperature answer on which we will compute the\n",
    "# accuracy and args.num_generation high temperature answers which will\n",
    "# be used to estimate the entropy variants.\n",
    "\n",
    "num_generations = args.num_generations + 1\n",
    "\n",
    "for i in range(num_generations):\n",
    "\n",
    "    # Temperature for first generation is always `0.1`.\n",
    "    temperature = 0.1 if i == 0 else args.temperature\n",
    "\n",
    "    predicted_answer, token_log_likelihoods, embedding = model.predict(\n",
    "        local_prompt, temperature)\n",
    "    embedding = embedding.cpu() if embedding is not None else None\n",
    "\n",
    "    # Only compute accuracy if question is answerable.\n",
    "    compute_acc = args.compute_accuracy_at_all_temps or (i == 0)\n",
    "    if correct_answer and compute_acc:\n",
    "        acc = metric(predicted_answer, example, model)\n",
    "    else:\n",
    "        acc = 0.0  # pylint: disable=invalid-name\n",
    "\n",
    "    if i == 0:\n",
    "        print('question: '.ljust(15) + question)\n",
    "        # if args.use_context:\n",
    "        print('context: '.ljust(15) + str(context))\n",
    "        print('low-t prediction: '.ljust(15) + predicted_answer)\n",
    "        print('correct answer: '.ljust(15) + str(correct_answer))\n",
    "        print('accuracy: '.ljust(15) + str(acc))\n",
    "\n",
    "        most_likely_answer_dict = {\n",
    "            'response': predicted_answer,\n",
    "            'token_log_likelihoods': token_log_likelihoods,\n",
    "            'embedding': embedding,\n",
    "            'accuracy': acc}\n",
    "        generations.update({\n",
    "            'most_likely_answer': most_likely_answer_dict,\n",
    "            'reference': utils.get_reference(example)})\n",
    "\n",
    "    else:\n",
    "        print('high-t prediction '.ljust(15) + str(i) + ' : ' + predicted_answer)\n",
    "        # Aggregate predictions over num_generations.\n",
    "        full_responses.append(\n",
    "            (predicted_answer, token_log_likelihoods, embedding, acc))\n",
    "\n",
    "# Append all predictions for this example to `generations`.\n",
    "generations['responses'] = full_responses"
   ]
  },
  {
   "cell_type": "code",
   "execution_count": 14,
   "id": "8986d4d5",
   "metadata": {},
   "outputs": [],
   "source": [
    "# Compute semantic ids.\n",
    "responses = [r[0] for r in full_responses]\n",
    "log_liks = [r[1] for r in full_responses]\n",
    "semantic_ids = get_semantic_ids(\n",
    "    responses, model=entailment_model,\n",
    "    strict_entailment=args.strict_entailment, example=example)"
   ]
  },
  {
   "cell_type": "code",
   "execution_count": 15,
   "id": "aa3a4776",
   "metadata": {},
   "outputs": [],
   "source": [
    "semantic_classes = {}\n",
    "for i, response in enumerate(full_responses):\n",
    "    if semantic_ids[i] not in semantic_classes:\n",
    "        semantic_classes[semantic_ids[i]] = [response]\n",
    "    else:\n",
    "        semantic_classes[semantic_ids[i]].append(response)"
   ]
  },
  {
   "cell_type": "code",
   "execution_count": 16,
   "id": "e295f94a",
   "metadata": {},
   "outputs": [],
   "source": [
    "entropies = defaultdict(list)\n",
    "\n",
    "# Compute entropy from frequencies of cluster assignments.\n",
    "entropies['cluster_assignment_entropy'].append(cluster_assignment_entropy(semantic_ids))\n",
    "\n",
    "# Length normalization of generation probabilities.\n",
    "log_liks_agg = [np.mean(log_lik) for log_lik in log_liks]\n",
    "\n",
    "# Compute naive entropy.\n",
    "entropies['regular_entropy'].append(predictive_entropy(log_liks_agg))\n",
    "\n",
    "# Compute semantic entropy.\n",
    "log_likelihood_per_semantic_id = logsumexp_by_id(semantic_ids, log_liks_agg, agg='sum_normalized')\n",
    "pe = predictive_entropy_rao(log_likelihood_per_semantic_id)\n",
    "entropies['semantic_entropy'].append(pe)"
   ]
  },
  {
   "cell_type": "markdown",
   "id": "e567795e",
   "metadata": {},
   "source": [
    "## UMAP Visualization of Embeddings for each Semantic Class"
   ]
  },
  {
   "cell_type": "code",
   "execution_count": 17,
   "id": "0233747a",
   "metadata": {},
   "outputs": [],
   "source": [
    "from mpl_toolkits.mplot3d import Axes3D\n",
    "from matplotlib.colors import ListedColormap, BoundaryNorm"
   ]
  },
  {
   "cell_type": "code",
   "execution_count": 18,
   "id": "cf8a2cb9",
   "metadata": {},
   "outputs": [],
   "source": [
    "embeddings = [r[2] for r in full_responses]\n",
    "embeddings = torch.stack(embeddings)\n",
    "embeddings = embeddings.squeeze()"
   ]
  },
  {
   "cell_type": "code",
   "execution_count": 19,
   "id": "31dcde00",
   "metadata": {},
   "outputs": [],
   "source": [
    "# Fit UMAP\n",
    "reducer = umap.UMAP(n_neighbors=10, min_dist=0.1, n_components=3)\n",
    "X_umap = reducer.fit_transform(embeddings)"
   ]
  },
  {
   "cell_type": "code",
   "execution_count": 20,
   "id": "df619472",
   "metadata": {},
   "outputs": [
    {
     "data": {
      "image/png": "[encoded data removed]",
      "text/plain": [
       "<Figure size 640x480 with 2 Axes>"
      ]
     },
     "metadata": {},
     "output_type": "display_data"
    }
   ],
   "source": [
    "# Plot\n",
    "fig = plt.figure()\n",
    "\n",
    "cmap = plt.get_cmap('tab20', len(np.unique(semantic_ids))) \n",
    "norm = BoundaryNorm(np.arange(-0.5, len(np.unique(semantic_ids)) + 0.5), cmap.N)\n",
    "\n",
    "ax = fig.add_subplot(111, projection='3d')\n",
    "sc = ax.scatter(X_umap[:, 0], X_umap[:, 1], X_umap[:, 2], c=semantic_ids, cmap=cmap, norm=norm)\n",
    "\n",
    "cbar = fig.colorbar(sc, ax=ax, ticks=np.unique(semantic_ids))  # Set colorbar labels to semantic IDs)))\n",
    "cbar.ax.set_yticklabels(np.unique(semantic_ids))  # Set colorbar labels to semantic IDs\n",
    "cbar.set_label('Semantic ID')\n",
    "\n",
    "plt.show()"
   ]
  },
  {
   "cell_type": "code",
   "execution_count": 20,
   "id": "af86c24e",
   "metadata": {},
   "outputs": [],
   "source": [
    "similarities = []\n",
    "\n",
    "for i, response_i in enumerate(generations['responses']):\n",
    "    embedding_i = response_i[2]\n",
    "    semantic_id_i = semantic_ids[i]\n",
    "    for j, response_j in enumerate(generations['responses']):\n",
    "        if i >= j:\n",
    "            continue\n",
    "        embedding_j = response_j[2]\n",
    "        semantic_id_j = semantic_ids[j]"
   ]
  },
  {
   "cell_type": "markdown",
   "id": "19e1cd40",
   "metadata": {},
   "source": [
    "## Experimenting with Context Probabilities"
   ]
  },
  {
   "cell_type": "code",
   "execution_count": 22,
   "id": "ddb59cd4",
   "metadata": {},
   "outputs": [],
   "source": [
    "# Grab example.\n",
    "dataset = train_dataset\n",
    "example = dataset[6]\n",
    "question, context = example[\"question\"], example['context']\n",
    "generations = {'question': question, 'context': context}\n",
    "correct_answer = example['answers']['text']\n",
    "\n",
    "current_input = make_prompt(\n",
    "context, question, None, BRIEF, args.brief_always and args.enable_brief)\n",
    "local_prompt = prompt + current_input"
   ]
  },
  {
   "cell_type": "code",
   "execution_count": null,
   "id": "27cd08f5",
   "metadata": {},
   "outputs": [
    {
     "data": {
      "text/plain": [
       "'\"Who painted \"\"Boy With a Pipe\"\" which, in May 2004, was sold for a record price of $104 million?\"'"
      ]
     },
     "execution_count": 24,
     "metadata": {},
     "output_type": "execute_result"
    }
   ],
   "source": [
    "question_context = 'Question: '"
   ]
  },
  {
   "cell_type": "code",
   "execution_count": null,
   "id": "4cd3caaa",
   "metadata": {},
   "outputs": [],
   "source": []
  }
 ],
 "metadata": {
  "kernelspec": {
   "display_name": "semantic_uncertainty",
   "language": "python",
   "name": "python3"
  },
  "language_info": {
   "codemirror_mode": {
    "name": "ipython",
    "version": 3
   },
   "file_extension": ".py",
   "mimetype": "text/x-python",
   "name": "python",
   "nbconvert_exporter": "python",
   "pygments_lexer": "ipython3",
   "version": "3.11.13"
  }
 },
 "nbformat": 4,
 "nbformat_minor": 5
}
