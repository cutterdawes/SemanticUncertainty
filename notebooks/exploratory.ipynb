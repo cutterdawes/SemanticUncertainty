{
 "cells": [
  {
   "cell_type": "code",
   "execution_count": 1,
   "id": "02828891",
   "metadata": {},
   "outputs": [],
   "source": [
    "%load_ext autoreload\n",
    "%autoreload 2"
   ]
  },
  {
   "cell_type": "code",
   "execution_count": 2,
   "id": "2bbcc6ce",
   "metadata": {},
   "outputs": [
    {
     "name": "stdout",
     "output_type": "stream",
     "text": [
      "/home/cutter/semantic_uncertainty/semantic_uncertainty\n"
     ]
    }
   ],
   "source": [
    "%cd ~/semantic_uncertainty/semantic_uncertainty"
   ]
  },
  {
   "cell_type": "code",
   "execution_count": 3,
   "id": "308ae231",
   "metadata": {},
   "outputs": [],
   "source": [
    "import numpy as np\n",
    "import random\n",
    "import itertools\n",
    "import umap\n",
    "import matplotlib.pyplot as plt\n",
    "from collections import defaultdict\n",
    "import torch\n",
    "import wandb\n",
    "\n",
    "from uncertainty.data.data_utils import load_ds\n",
    "from uncertainty.utils import utils\n",
    "from compute_uncertainty_measures import main as main_compute\n",
    "\n",
    "from analyze_results import analyze_run\n",
    "from uncertainty.uncertainty_measures.p_ik import get_p_ik\n",
    "from uncertainty.uncertainty_measures.semantic_entropy import get_semantic_ids\n",
    "from uncertainty.uncertainty_measures.semantic_entropy import logsumexp_by_id\n",
    "from uncertainty.uncertainty_measures.semantic_entropy import predictive_entropy\n",
    "from uncertainty.uncertainty_measures.semantic_entropy import predictive_entropy_rao\n",
    "from uncertainty.uncertainty_measures.semantic_entropy import cluster_assignment_entropy\n",
    "from uncertainty.uncertainty_measures.semantic_entropy import context_entails_response\n",
    "from uncertainty.uncertainty_measures.semantic_entropy import EntailmentDeberta\n",
    "from uncertainty.uncertainty_measures.semantic_entropy import EntailmentGPT4\n",
    "from uncertainty.uncertainty_measures.semantic_entropy import EntailmentGPT35\n",
    "from uncertainty.uncertainty_measures.semantic_entropy import EntailmentGPT4Turbo\n",
    "from uncertainty.uncertainty_measures.semantic_entropy import EntailmentLlama"
   ]
  },
  {
   "cell_type": "code",
   "execution_count": 4,
   "id": "5f95c1ff",
   "metadata": {},
   "outputs": [],
   "source": [
    "parser = utils.get_parser()\n",
    "args, unknown = parser.parse_known_args()"
   ]
  },
  {
   "cell_type": "code",
   "execution_count": 5,
   "id": "245a6ca8",
   "metadata": {},
   "outputs": [],
   "source": [
    "args.num_generations = 100"
   ]
  },
  {
   "cell_type": "code",
   "execution_count": 6,
   "id": "40da8d87",
   "metadata": {},
   "outputs": [],
   "source": [
    "experiment_details = {'args': args}\n",
    "random.seed(args.random_seed)"
   ]
  },
  {
   "cell_type": "code",
   "execution_count": 7,
   "id": "15446a45",
   "metadata": {},
   "outputs": [],
   "source": [
    "# Get accuracy metric.\n",
    "metric = utils.get_metric(args.metric)\n",
    "\n",
    "# Load dataset.\n",
    "train_dataset, validation_dataset = load_ds(\n",
    "    args.dataset, add_options=args.use_mc_options, seed=args.random_seed)"
   ]
  },
  {
   "cell_type": "code",
   "execution_count": 8,
   "id": "56b6d69e",
   "metadata": {},
   "outputs": [],
   "source": [
    "# Get indices of answerable and unanswerable questions and construct prompt.\n",
    "answerable_indices, unanswerable_indices = utils.split_dataset(train_dataset)\n",
    "\n",
    "if args.answerable_only:\n",
    "    unanswerable_indices = []\n",
    "    val_answerable, val_unanswerable = utils.split_dataset(validation_dataset)\n",
    "    del val_unanswerable\n",
    "    validation_dataset = [validation_dataset[i] for i in val_answerable]\n",
    "\n",
    "prompt_indices = random.sample(answerable_indices, args.num_few_shot)\n",
    "experiment_details['prompt_indices'] = prompt_indices\n",
    "remaining_answerable = list(set(answerable_indices) - set(prompt_indices))"
   ]
  },
  {
   "cell_type": "code",
   "execution_count": 9,
   "id": "020914eb",
   "metadata": {},
   "outputs": [],
   "source": [
    "# Create Few-Shot prompt.\n",
    "make_prompt = utils.get_make_prompt(args)\n",
    "BRIEF = utils.BRIEF_PROMPTS[args.brief_prompt]\n",
    "arg = args.brief_always if args.enable_brief else True\n",
    "prompt = utils.construct_fewshot_prompt_from_indices(\n",
    "    train_dataset, prompt_indices, BRIEF, arg, make_prompt)\n",
    "experiment_details['prompt'] = prompt\n",
    "experiment_details['BRIEF'] = BRIEF"
   ]
  },
  {
   "cell_type": "code",
   "execution_count": 10,
   "id": "526da426",
   "metadata": {},
   "outputs": [
    {
     "data": {
      "application/vnd.jupyter.widget-view+json": {
       "model_id": "ac368ec14d32463bbe2faada845465f5",
       "version_major": 2,
       "version_minor": 0
      },
      "text/plain": [
       "Loading checkpoint shards:   0%|          | 0/2 [00:00<?, ?it/s]"
      ]
     },
     "metadata": {},
     "output_type": "display_data"
    }
   ],
   "source": [
    "# Initialize model.\n",
    "model = utils.init_model(args)"
   ]
  },
  {
   "cell_type": "code",
   "execution_count": 11,
   "id": "1e2a26ee",
   "metadata": {},
   "outputs": [],
   "source": [
    "entailment_model = EntailmentDeberta()"
   ]
  },
  {
   "cell_type": "code",
   "execution_count": 21,
   "id": "d46d1f05",
   "metadata": {},
   "outputs": [],
   "source": [
    "# Grab example.\n",
    "dataset = train_dataset\n",
    "example = dataset[4]\n",
    "question, context = example[\"question\"], example['context']\n",
    "generations = {'question': question, 'context': context}\n",
    "correct_answer = example['answers']['text']\n",
    "\n",
    "current_input = make_prompt(\n",
    "context, question, None, BRIEF, args.brief_always and args.enable_brief)\n",
    "local_prompt = prompt + current_input"
   ]
  },
  {
   "cell_type": "code",
   "execution_count": 22,
   "id": "6bdf017b",
   "metadata": {},
   "outputs": [
    {
     "name": "stdout",
     "output_type": "stream",
     "text": [
      "question:      Who plays 'Mahmud Nasir', a Muslim who finds out he was born Jewish, in the 2010 film 'The Infidel'?\n",
      "context:       producers: Omid Djalili, Cavan Ash [PAR] Director of photography: Natasha Braier [PAR] Editor: Kim Gaster[DOC] [TLE] The Infidel Reviews & Ratings - IMDbThe Infidel  Reviews & Ratings - IMDb [PAR] IMDb [PAR] 39 out of 48 people found the following review useful: [PAR] Halal/Kosher cook off [PAR] from KayWood [PAR] 8 April 2010 [PAR] I've just returned from what the organizers dubbed as \"The World Premier\" of 'The Infidel' at the Hammersmith Apollo, and the mere fact that the first thing on my mind is to review it should say something about this strategically mastered movie written by David Baddiel, who to my surprise can deliver an equally hilarious stand up performance. [PAR] The movie takes place in East London and it revolves around the life the Mahmud Nasir a semi-liberal Muslim family man minicab driver whose world gets disrupted by his mother's death and goes into an emotional period compounded by his son's recent engagement to a Pakistani \"hate cleric's\" step daughter. Mahmud uncovers his birth certificate while cleaning out his mother's stuff and eventually discovers that he is adopted and his original parents are Jewish. [PAR] As Mahmud's world swivels in a state of disarray he turns to the only Jewish person he knows, semi-alcoholic recently divorced clinically depressed Lenny (Richard Schiff from The West Wing), who takes it upon himself to teach now 'Solly Shimshillewitz' Jewishness! The two embark on a journey of \"oy vey\" rehearsals and 'Fiddler on the Roof' reaction sessions as Lenny shows Mahmud the difference between the various types of London Jews. Mahmud's life takes a \n",
      "low-t prediction: Riz Ahmed\n",
      "correct answer: ['omid djalili']\n",
      "accuracy:      0.0\n",
      "high-t prediction 1 : Riz Ahmed\n",
      "high-t prediction 2 : Ricky gervais\n",
      "high-t prediction 3 : mischa barton\n",
      "high-t prediction 4 : Riz Ahmed\n",
      "high-t prediction 5 : shabana azmi\n",
      "high-t prediction 6 : irrfan khan\n",
      "high-t prediction 7 : ricky gervais\n",
      "high-t prediction 8 : Riz Ahmed\n",
      "high-t prediction 9 : Riz Ahmed\n",
      "high-t prediction 10 : Riz Ahmed\n",
      "high-t prediction 11 : comedian borat (sacha baron cohen)\n",
      "high-t prediction 12 : shia labeouf\n",
      "high-t prediction 13 : omid djalili\n",
      "high-t prediction 14 : Riz Ahmed\n",
      "high-t prediction 15 : rush limbaugh\n",
      "high-t prediction 16 : Riz Ahmed\n",
      "high-t prediction 17 : irfan khan\n",
      "high-t prediction 18 : Riz Ahmed\n",
      "high-t prediction 19 : Riz Ahmed\n",
      "high-t prediction 20 : Ricky gervais\n",
      "high-t prediction 21 : irrfan khan\n",
      "high-t prediction 22 : Om puri\n",
      "high-t prediction 23 : iran\n",
      "high-t prediction 24 : Riz Ahmed\n",
      "high-t prediction 25 : Ricky gervais\n",
      "high-t prediction 26 : Riz Ahmed\n",
      "high-t prediction 27 : Riz Ahmed\n",
      "high-t prediction 28 : Riz Ahmed\n",
      "high-t prediction 29 : riz ahmed\n",
      "high-t prediction 30 : Riz Ahmed\n",
      "high-t prediction 31 : Ricky gervais\n",
      "high-t prediction 32 : ricky gervais\n",
      "high-t prediction 33 : jim broadbent\n",
      "high-t prediction 34 : Ricky Gervais\n",
      "high-t prediction 35 : omid djalili\n",
      "high-t prediction 36 : Riz Ahmed\n",
      "high-t prediction 37 : Riz Ahmed\n",
      "high-t prediction 38 : Riz Ahmed\n",
      "high-t prediction 39 : Omid Djalili\n",
      "high-t prediction 40 : Riz Ahmed\n",
      "high-t prediction 41 : Ricky gervais\n",
      "high-t prediction 42 : Riz Ahmed\n",
      "high-t prediction 43 : Riz Ahmed\n",
      "high-t prediction 44 : omar sy\n",
      "high-t prediction 45 : Riz Ahmed\n",
      "high-t prediction 46 : irrfan khan\n",
      "high-t prediction 47 : Ricky Gervais\n",
      "high-t prediction 48 : irrfan khan\n",
      "high-t prediction 49 : ricky gervais\n",
      "high-t prediction 50 : irfan khan\n",
      "high-t prediction 51 : Riz Ahmed\n",
      "high-t prediction 52 : riz ahmed\n",
      "high-t prediction 53 : indira varma\n",
      "high-t prediction 54 : Riz Ahmed\n",
      "high-t prediction 55 : Riz Ahmed\n",
      "high-t prediction 56 : indira varma\n",
      "high-t prediction 57 : Ricky gervais\n",
      "high-t prediction 58 : shia labeouf\n",
      "high-t prediction 59 : shia lebeouf\n",
      "high-t prediction 60 : Omari Hardwick\n",
      "high-t prediction 61 : Ricky Gervais\n",
      "high-t prediction 62 : Riz Ahmed\n",
      "high-t prediction 63 : matt dillon\n",
      "high-t prediction 64 : Riz Ahmed\n",
      "high-t prediction 65 : Riz Ahmed\n",
      "high-t prediction 66 : matt Lucas\n",
      "high-t prediction 67 : Omar\n",
      "high-t prediction 68 : indira varma\n",
      "high-t prediction 69 : Riz Ahmed\n",
      "high-t prediction 70 : iran\n",
      "high-t prediction 71 : owen wilson\n",
      "high-t prediction 72 : Riz Ahmed\n",
      "high-t prediction 73 : omid djalili\n",
      "high-t prediction 74 : Riz Ahmed\n",
      "high-t prediction 75 : Omari Hardwick\n",
      "high-t prediction 76 : Riz Ahmed\n",
      "high-t prediction 77 : Riz Ahmed\n",
      "high-t prediction 78 : irfan khan\n",
      "high-t prediction 79 : shia labeouf\n",
      "high-t prediction 80 : shia labeouf\n",
      "high-t prediction 81 : Riz Ahmed\n",
      "high-t prediction 82 : Riz Ahmed\n",
      "high-t prediction 83 : Riz Ahmed\n",
      "high-t prediction 84 : mischa barton\n",
      "high-t prediction 85 : matthew macfadyen\n",
      "high-t prediction 86 : ricky gervais\n",
      "high-t prediction 87 : Ricky Gervais\n",
      "high-t prediction 88 : indira varma\n",
      "high-t prediction 89 : owen wilson\n",
      "high-t prediction 90 : Riz Ahmed\n",
      "high-t prediction 91 : ricky gervais\n",
      "high-t prediction 92 : Riz Ahmed\n",
      "high-t prediction 93 : omid djalili\n",
      "high-t prediction 94 : indira varma\n",
      "high-t prediction 95 : Riz Ahmed\n",
      "high-t prediction 96 : ricky gervais\n",
      "high-t prediction 97 : Riz Ahmed\n",
      "high-t prediction 98 : shia labeouf\n",
      "high-t prediction 99 : Riz Ahmed\n",
      "high-t prediction 100 : Riz Ahmed\n"
     ]
    }
   ],
   "source": [
    "full_responses = []\n",
    "\n",
    "# We sample one low temperature answer on which we will compute the\n",
    "# accuracy and args.num_generation high temperature answers which will\n",
    "# be used to estimate the entropy variants.\n",
    "\n",
    "num_generations = args.num_generations + 1\n",
    "\n",
    "for i in range(num_generations):\n",
    "\n",
    "    # Temperature for first generation is always `0.1`.\n",
    "    temperature = 0.1 if i == 0 else args.temperature\n",
    "\n",
    "    predicted_answer, token_log_likelihoods, embedding = model.predict(\n",
    "        local_prompt, temperature)\n",
    "    embedding = embedding.cpu() if embedding is not None else None\n",
    "\n",
    "    # Only compute accuracy if question is answerable.\n",
    "    compute_acc = args.compute_accuracy_at_all_temps or (i == 0)\n",
    "    if correct_answer and compute_acc:\n",
    "        acc = metric(predicted_answer, example, model)\n",
    "    else:\n",
    "        acc = 0.0  # pylint: disable=invalid-name\n",
    "\n",
    "    if i == 0:\n",
    "        print('question: '.ljust(15) + question)\n",
    "        # if args.use_context:\n",
    "        print('context: '.ljust(15) + str(context))\n",
    "        print('low-t prediction: '.ljust(15) + predicted_answer)\n",
    "        print('correct answer: '.ljust(15) + str(correct_answer))\n",
    "        print('accuracy: '.ljust(15) + str(acc))\n",
    "\n",
    "        most_likely_answer_dict = {\n",
    "            'response': predicted_answer,\n",
    "            'token_log_likelihoods': token_log_likelihoods,\n",
    "            'embedding': embedding,\n",
    "            'accuracy': acc}\n",
    "        generations.update({\n",
    "            'most_likely_answer': most_likely_answer_dict,\n",
    "            'reference': utils.get_reference(example)})\n",
    "\n",
    "    else:\n",
    "        print('high-t prediction '.ljust(15) + str(i) + ' : ' + predicted_answer)\n",
    "        # Aggregate predictions over num_generations.\n",
    "        full_responses.append(\n",
    "            (predicted_answer, token_log_likelihoods, embedding, acc))\n",
    "\n",
    "# Append all predictions for this example to `generations`.\n",
    "generations['responses'] = full_responses"
   ]
  },
  {
   "cell_type": "code",
   "execution_count": 23,
   "id": "8986d4d5",
   "metadata": {},
   "outputs": [],
   "source": [
    "# Compute semantic ids.\n",
    "responses = [r[0] for r in full_responses]\n",
    "log_liks = [r[1] for r in full_responses]\n",
    "semantic_ids = get_semantic_ids(\n",
    "    responses, model=entailment_model,\n",
    "    strict_entailment=args.strict_entailment, example=example)"
   ]
  },
  {
   "cell_type": "code",
   "execution_count": 24,
   "id": "aa3a4776",
   "metadata": {},
   "outputs": [],
   "source": [
    "semantic_classes = {}\n",
    "for i, response in enumerate(full_responses):\n",
    "    if semantic_ids[i] not in semantic_classes:\n",
    "        semantic_classes[semantic_ids[i]] = [response]\n",
    "    else:\n",
    "        semantic_classes[semantic_ids[i]].append(response)"
   ]
  },
  {
   "cell_type": "code",
   "execution_count": 25,
   "id": "e295f94a",
   "metadata": {},
   "outputs": [],
   "source": [
    "entropies = defaultdict(list)\n",
    "\n",
    "# Compute entropy from frequencies of cluster assignments.\n",
    "entropies['cluster_assignment_entropy'].append(cluster_assignment_entropy(semantic_ids))\n",
    "\n",
    "# Length normalization of generation probabilities.\n",
    "log_liks_agg = [np.mean(log_lik) for log_lik in log_liks]\n",
    "\n",
    "# Compute naive entropy.\n",
    "entropies['regular_entropy'].append(predictive_entropy(log_liks_agg))\n",
    "\n",
    "# Compute semantic entropy.\n",
    "log_likelihood_per_semantic_id = logsumexp_by_id(semantic_ids, log_liks_agg, agg='sum_normalized')\n",
    "pe = predictive_entropy_rao(log_likelihood_per_semantic_id)\n",
    "entropies['semantic_entropy'].append(pe)"
   ]
  },
  {
   "cell_type": "code",
   "execution_count": 26,
   "id": "cf8a2cb9",
   "metadata": {},
   "outputs": [],
   "source": [
    "embeddings = [r[2] for r in full_responses]\n",
    "embeddings = torch.stack(embeddings)\n",
    "embeddings = embeddings.squeeze()"
   ]
  },
  {
   "cell_type": "code",
   "execution_count": 27,
   "id": "31dcde00",
   "metadata": {},
   "outputs": [],
   "source": [
    "# Fit UMAP\n",
    "reducer = umap.UMAP(n_neighbors=10, min_dist=0.1, n_components=2)\n",
    "X_umap = reducer.fit_transform(embeddings)"
   ]
  },
  {
   "cell_type": "code",
   "execution_count": 29,
   "id": "df619472",
   "metadata": {},
   "outputs": [
    {
     "data": {
      "image/png": "[encoded data removed]",
      "text/plain": [
       "<Figure size 640x480 with 2 Axes>"
      ]
     },
     "metadata": {},
     "output_type": "display_data"
    }
   ],
   "source": [
    "# Plot\n",
    "plt.scatter(X_umap[:, 0], X_umap[:, 1], c=semantic_ids, cmap='tab10', s=10)\n",
    "plt.colorbar()\n",
    "plt.title(\"UMAP projection of the Digits dataset\")\n",
    "plt.show()"
   ]
  },
  {
   "cell_type": "code",
   "execution_count": 20,
   "id": "af86c24e",
   "metadata": {},
   "outputs": [],
   "source": [
    "similarities = []\n",
    "\n",
    "for i, response_i in enumerate(generations['responses']):\n",
    "    embedding_i = response_i[2]\n",
    "    semantic_id_i = semantic_ids[i]\n",
    "    for j, response_j in enumerate(generations['responses']):\n",
    "        if i >= j:\n",
    "            continue\n",
    "        embedding_j = response_j[2]\n",
    "        semantic_id_j = semantic_ids[j]"
   ]
  },
  {
   "cell_type": "code",
   "execution_count": null,
   "id": "19e1cd40",
   "metadata": {},
   "outputs": [],
   "source": []
  }
 ],
 "metadata": {
  "kernelspec": {
   "display_name": "semantic_uncertainty",
   "language": "python",
   "name": "python3"
  },
  "language_info": {
   "codemirror_mode": {
    "name": "ipython",
    "version": 3
   },
   "file_extension": ".py",
   "mimetype": "text/x-python",
   "name": "python",
   "nbconvert_exporter": "python",
   "pygments_lexer": "ipython3",
   "version": "3.11.13"
  }
 },
 "nbformat": 4,
 "nbformat_minor": 5
}
